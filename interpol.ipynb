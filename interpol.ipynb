{
  "nbformat": 4,
  "nbformat_minor": 0,
  "metadata": {
    "colab": {
      "provenance": [],
      "authorship_tag": "ABX9TyPCBznMXWea0WQk6l/XzUDq",
      "include_colab_link": true
    },
    "kernelspec": {
      "name": "python3",
      "display_name": "Python 3"
    },
    "language_info": {
      "name": "python"
    }
  },
  "cells": [
    {
      "cell_type": "markdown",
      "metadata": {
        "id": "view-in-github",
        "colab_type": "text"
      },
      "source": [
        "<a href=\"https://colab.research.google.com/github/sebasmapura/prog/blob/main/interpol.ipynb\" target=\"_parent\"><img src=\"https://colab.research.google.com/assets/colab-badge.svg\" alt=\"Open In Colab\"/></a>"
      ]
    },
    {
      "cell_type": "code",
      "execution_count": 18,
      "metadata": {
        "colab": {
          "base_uri": "https://localhost:8080/"
        },
        "id": "lglPHevm0MO5",
        "outputId": "9c0be07d-dbae-4512-c5da-b02a872095f5"
      },
      "outputs": [
        {
          "output_type": "stream",
          "name": "stdout",
          "text": [
            "Para Δβ y θstart = 30 is 165.0\n",
            "Para Δβ y θstart = 55 is 152.5\n"
          ]
        }
      ],
      "source": [
        "# Dato 1\n",
        "from scipy.interpolate import interp1d\n",
        "\n",
        "X = [20,40,60,80,100,120,140,160,180] #variable 1\n",
        "Y= [170, 160, 150,140,130, 120, 110, 100, 90  ]\n",
        " # random y values\n",
        "\n",
        "interpolate_x = 30\n",
        "interpolate_x1 = 55\n",
        "\n",
        "\n",
        "y_interp = interp1d(X, Y)\n",
        "print(\"Para Δβ y θstart = {} is\".format(interpolate_x),\n",
        "      y_interp(interpolate_x))\n",
        "\n",
        "y_interp1 = interp1d(X, Y)\n",
        "print(\"Para Δβ y θstart = {} is\".format(interpolate_x1),\n",
        "      y_interp1(interpolate_x1))\n"
      ]
    },
    {
      "cell_type": "code",
      "source": [
        "# Dato 2\n",
        "from scipy.interpolate import interp1d\n",
        "\n",
        "X = [20,40,60,80,100,120,140,160,180] #variable 1\n",
        "Y1= [0.00001, 0.00004, 0.00027, 0.001, 0.004, 0.010, 0.023, 0.047,0.096]\n",
        " # random y values\n",
        "\n",
        "interpolate_x = 30\n",
        "interpolate_x1 = 55\n",
        "\n",
        "\n",
        "MinimumCy = interp1d(X, Y1)\n",
        "print(\"Para Δβ y Minimum Cy = {} is\".format(interpolate_x),\n",
        "      MinimumCy (interpolate_x))\n",
        "\n",
        "MinimumCy1 = interp1d(X, Y1)\n",
        "print(\"Para Δβ  y Minimum Cy = {} is\".format(interpolate_x1),\n",
        "      MinimumCy1 (interpolate_x1))"
      ],
      "metadata": {
        "colab": {
          "base_uri": "https://localhost:8080/"
        },
        "id": "yZv2Tq4lM1hQ",
        "outputId": "10efbd94-547c-4646-f021-10bf7df918be"
      },
      "execution_count": 22,
      "outputs": [
        {
          "output_type": "stream",
          "name": "stdout",
          "text": [
            "Para Δβ y Minimum Cy = 30 is 2.5000000000000005e-05\n",
            "Para Δβ  y Minimum Cy = 55 is 0.0002125\n"
          ]
        }
      ]
    },
    {
      "cell_type": "code",
      "source": [
        "# Dato 3\n",
        "from scipy.interpolate import interp1d\n",
        "\n",
        "X = [20,40,60,80,100,120,140,160,180] #variable 1\n",
        "Y2= [0.38,1.53,3.48,6.26,9.90,14.68,20.48,27.15,35.31]\n",
        " # random y values\n",
        "\n",
        "interpolate_x = 30\n",
        "interpolate_x1 = 55\n",
        "\n",
        "\n",
        "Δv = interp1d(X, Y2)\n",
        "print(\"Para Δβ y Δv = {} is\".format(interpolate_x),\n",
        "      Δv (interpolate_x))\n",
        "\n",
        "Δv1 = interp1d(X, Y2)\n",
        "print(\"Para Δβ  y Δv = {} is\".format(interpolate_x1),\n",
        "      Δv (interpolate_x1))"
      ],
      "metadata": {
        "colab": {
          "base_uri": "https://localhost:8080/"
        },
        "id": "45CxtQEKL282",
        "outputId": "081c5db1-c31b-4ce3-e29f-94657e1475a2"
      },
      "execution_count": 26,
      "outputs": [
        {
          "output_type": "stream",
          "name": "stdout",
          "text": [
            "Para Δβ y Δv = 30 is 0.955\n",
            "Para Δβ  y Δv = 55 is 2.9925\n"
          ]
        }
      ]
    },
    {
      "cell_type": "code",
      "source": [
        "# Dato 4\n",
        "from scipy.interpolate import interp1d\n",
        "\n",
        "X = [20,40,60,80,100,120,140,160,180] #variable 1\n",
        "Y3= [1.436,1.504,1.565, 1.611, 1.646, 1.679, 1.702, 1.717, 1.725]\n",
        " # random y values\n",
        "\n",
        "interpolate_x = 30\n",
        "interpolate_x1 = 55\n",
        "\n",
        "\n",
        "Vx = interp1d(X, Y3)\n",
        "print(\"Para Δβ y Vx  = {} is\".format(interpolate_x),\n",
        "      Vx  (interpolate_x))\n",
        "\n",
        "Vx1 = interp1d(X, Y3)\n",
        "print(\"Para Δβ  y Vx  = {} is\".format(interpolate_x1),\n",
        "      Vx1 (interpolate_x1))"
      ],
      "metadata": {
        "colab": {
          "base_uri": "https://localhost:8080/"
        },
        "id": "Cy0phKzlP7H9",
        "outputId": "5e932e62-e6ac-4f3c-d351-7bc677c33793"
      },
      "execution_count": 28,
      "outputs": [
        {
          "output_type": "stream",
          "name": "stdout",
          "text": [
            "Para Δβ y Vx  = 30 is 1.47\n",
            "Para Δβ  y Vx  = 55 is 1.54975\n"
          ]
        }
      ]
    },
    {
      "cell_type": "code",
      "source": [
        "# Dato 5\n",
        "from scipy.interpolate import interp1d\n",
        "\n",
        "X = [20,40,60,80,100,120,140,160,180] #variable 1\n",
        "Y4=[2.975, 2.950, 2.900, 2.825, 2.725,2.625,2.500,2.350,2.200]\n",
        " # random y values\n",
        "\n",
        "interpolate_x = 30\n",
        "interpolate_x1 = 55\n",
        "\n",
        "\n",
        "L1L2 = interp1d(X, Y4)\n",
        "print(\"Para Δβ y L1/L2  = {} is\".format(interpolate_x),\n",
        "      L1L2(interpolate_x))\n",
        "\n",
        "L1L21 = interp1d(X, Y4)\n",
        "print(\"Para Δβ  y L1/L2  = {} is\".format(interpolate_x1),\n",
        "     L1L21 (interpolate_x1))"
      ],
      "metadata": {
        "colab": {
          "base_uri": "https://localhost:8080/"
        },
        "id": "G_HRxLQyQdqT",
        "outputId": "c70d94cb-aec6-43cb-c777-10c5b4f318b5"
      },
      "execution_count": 32,
      "outputs": [
        {
          "output_type": "stream",
          "name": "stdout",
          "text": [
            "Para Δβ y L1/L2  = 30 is 2.9625000000000004\n",
            "Para Δβ  y L1/L2  = 55 is 2.9125\n"
          ]
        }
      ]
    },
    {
      "cell_type": "code",
      "source": [
        "# Dato 6\n",
        "from scipy.interpolate import interp1d\n",
        "\n",
        "X = [20,40,60,80,100,120,140,160,180] #variable 1\n",
        "Y5 = [3.963,3.925,3.850,3.738,3.588,3.438,3.250,2.025,2.800]\n",
        " # random y values\n",
        "\n",
        "interpolate_x = 30\n",
        "interpolate_x1 = 55\n",
        "\n",
        "\n",
        "L3L2 = interp1d(X, Y5)\n",
        "print(\"Para Δβ y L3/L2  = {} is\".format(interpolate_x),\n",
        "      L3L2(interpolate_x))\n",
        "\n",
        "L3L21 = interp1d(X, Y5)\n",
        "print(\"Para Δβ  y L3/L2  = {} is\".format(interpolate_x1),\n",
        "     L3L21 (interpolate_x1))"
      ],
      "metadata": {
        "colab": {
          "base_uri": "https://localhost:8080/"
        },
        "id": "Xcc717VeRBpO",
        "outputId": "263ea513-0faa-466c-a0e7-804a3dc44819"
      },
      "execution_count": 37,
      "outputs": [
        {
          "output_type": "stream",
          "name": "stdout",
          "text": [
            "Para Δβ y L3/L2  = 30 is 3.944\n",
            "Para Δβ  y L3/L2  = 55 is 3.86875\n"
          ]
        }
      ]
    },
    {
      "cell_type": "code",
      "source": [
        "# Dato 7\n",
        "from scipy.interpolate import interp1d\n",
        "\n",
        "X = [20,40,60,80,100,120,140,160,180] #variable 1\n",
        "Y6 = [0.601,1.193,1.763,2.299,2.790,3.238,3.623,3.933,4.181]\n",
        " # random y values\n",
        "\n",
        "interpolate_x = 30\n",
        "interpolate_x1 = 55\n",
        "\n",
        "\n",
        "ΔX = interp1d(X, Y6)\n",
        "print(\"Para Δβ y ΔX = {} is\".format(interpolate_x),\n",
        "      ΔX(interpolate_x))\n",
        "\n",
        "ΔX1 = interp1d(X, Y6)\n",
        "print(\"Para Δβ  y ΔX  = {} is\".format(interpolate_x1),\n",
        "     ΔX1 (interpolate_x1))"
      ],
      "metadata": {
        "colab": {
          "base_uri": "https://localhost:8080/"
        },
        "id": "wYXc9GFTRb2a",
        "outputId": "271d1a64-2659-47ca-a090-3686e16e8520"
      },
      "execution_count": 36,
      "outputs": [
        {
          "output_type": "stream",
          "name": "stdout",
          "text": [
            "Para Δβ y ΔX = 30 is 0.897\n",
            "Para Δβ  y ΔX  = 55 is 1.6204999999999998\n"
          ]
        }
      ]
    },
    {
      "cell_type": "code",
      "source": [
        "y_interp = interp1d(X, Y)\n",
        "print(\"Para Δβ y θstart = {} is\".format(interpolate_x),\n",
        "      y_interp(interpolate_x))\n",
        "\n",
        "\n",
        "\n",
        "\n",
        "MinimumCy = interp1d(X, Y1)\n",
        "print(\"Para Δβ y Minimum Cy = {} is\".format(interpolate_x),\n",
        "      MinimumCy (interpolate_x))\n",
        "\n",
        "\n",
        "\n",
        "\n",
        "\n",
        "Δv = interp1d(X, Y2)\n",
        "print(\"Para Δβ y Δv = {} is\".format(interpolate_x),\n",
        "      Δv (interpolate_x))\n",
        "\n",
        "\n",
        "\n",
        "\n",
        "Vx = interp1d(X, Y3)\n",
        "print(\"Para Δβ y Vx  = {} is\".format(interpolate_x),\n",
        "      Vx  (interpolate_x))\n",
        "\n",
        "\n",
        "\n",
        "L1L2 = interp1d(X, Y4)\n",
        "print(\"Para Δβ y L1/L2  = {} is\".format(interpolate_x),\n",
        "      L1L2(interpolate_x))\n",
        "\n",
        "\n",
        "\n",
        "\n",
        "L3L2 = interp1d(X, Y5)\n",
        "print(\"Para Δβ y L3/L2  = {} is\".format(interpolate_x),\n",
        "      L3L2(interpolate_x))\n",
        "\n",
        "\n",
        "\n",
        "\n",
        "\n",
        "ΔX = interp1d(X, Y6)\n",
        "print(\"Para Δβ y ΔX = {} is\".format(interpolate_x),\n",
        "      ΔX(interpolate_x))\n",
        "\n",
        "Δ=20\n",
        "\n",
        "#Calculo L2\n",
        "\n",
        "L2=(Δ/ΔX(interpolate_x))\n",
        "print(\"L2=\",L2)\n",
        "\n",
        "#calculo L3\n",
        "\n",
        "L3= (L2*L3L2(interpolate_x))\n",
        "print(\"L3=\",L3)\n",
        "\n",
        "#Calculo L1\n",
        "L1= (L2*L1L2(interpolate_x))\n",
        "print(\"L1=\",L1)"
      ],
      "metadata": {
        "colab": {
          "base_uri": "https://localhost:8080/"
        },
        "id": "bHjZvj0TL1Uh",
        "outputId": "af69ed1d-c3f9-47b3-9126-2a8eb0bd8a4c"
      },
      "execution_count": 49,
      "outputs": [
        {
          "output_type": "stream",
          "name": "stdout",
          "text": [
            "Para Δβ y θstart = 30 is 165.0\n",
            "Para Δβ y Minimum Cy = 30 is 2.5000000000000005e-05\n",
            "Para Δβ y Δv = 30 is 0.955\n",
            "Para Δβ y Vx  = 30 is 1.47\n",
            "Para Δβ y L1/L2  = 30 is 2.9625000000000004\n",
            "Para Δβ y L3/L2  = 30 is 3.944\n",
            "Para Δβ y ΔX = 30 is 0.897\n",
            "L2= 22.29654403567447\n",
            "L3= 87.93756967670011\n",
            "L1= 66.05351170568562\n"
          ]
        }
      ]
    },
    {
      "cell_type": "code",
      "source": [],
      "metadata": {
        "colab": {
          "base_uri": "https://localhost:8080/"
        },
        "id": "ClD9H1yOWQsL",
        "outputId": "2fddd24c-3871-4e1a-a375-2f492a88832c"
      },
      "execution_count": 44,
      "outputs": [
        {
          "output_type": "stream",
          "name": "stdout",
          "text": [
            "22.29654403567447\n"
          ]
        }
      ]
    },
    {
      "cell_type": "code",
      "source": [
        "y_interp1 = interp1d(X, Y)\n",
        "print(\"Para Δβ y θstart = {} is\".format(interpolate_x1),\n",
        "      y_interp1(interpolate_x1))\n",
        "\n",
        "MinimumCy1 = interp1d(X, Y1)\n",
        "print(\"Para Δβ  y Minimum Cy = {} is\".format(interpolate_x1),\n",
        "      MinimumCy1 (interpolate_x1))\n",
        "\n",
        "\n",
        "Δv1 = interp1d(X, Y2)\n",
        "print(\"Para Δβ  y Δv = {} is\".format(interpolate_x1),\n",
        "      Δv (interpolate_x1))\n",
        "\n",
        "\n",
        "Vx1 = interp1d(X, Y3)\n",
        "print(\"Para Δβ  y Vx  = {} is\".format(interpolate_x1),\n",
        "      Vx1 (interpolate_x1))\n",
        "\n",
        "\n",
        "L1L21 = interp1d(X, Y4)\n",
        "print(\"Para Δβ  y L1/L2  = {} is\".format(interpolate_x1),\n",
        "     L1L21 (interpolate_x1))\n",
        "\n",
        "\n",
        "L3L21 = interp1d(X, Y5)\n",
        "print(\"Para Δβ  y L3/L2  = {} is\".format(interpolate_x1),\n",
        "     L3L21 (interpolate_x1))\n",
        "\n",
        "\n",
        "ΔX1 = interp1d(X, Y6)\n",
        "print(\"Para Δβ  y ΔX  = {} is\".format(interpolate_x1),\n",
        "     ΔX1 (interpolate_x1))\n",
        "\n",
        "Δ=20\n",
        "\n",
        "#Calculo L2\n",
        "\n",
        "L21=(Δ/ΔX1(interpolate_x1))\n",
        "print(\"L2=\",L21)\n",
        "\n",
        "#calculo L3\n",
        "\n",
        "L31= (L2*L3L21(interpolate_x1))\n",
        "print(\"L3=\",L31)\n",
        "\n",
        "#Calculo L1\n",
        "L11= (L2*L1L21(interpolate_x1))\n",
        "print(\"L1=\",L11)"
      ],
      "metadata": {
        "colab": {
          "base_uri": "https://localhost:8080/"
        },
        "id": "sb0nBqOaSJxZ",
        "outputId": "8568f2af-f71e-4277-f738-4120d41891ec"
      },
      "execution_count": 50,
      "outputs": [
        {
          "output_type": "stream",
          "name": "stdout",
          "text": [
            "Para Δβ y θstart = 55 is 152.5\n",
            "Para Δβ  y Minimum Cy = 55 is 0.0002125\n",
            "Para Δβ  y Δv = 55 is 2.9925\n",
            "Para Δβ  y Vx  = 55 is 1.54975\n",
            "Para Δβ  y L1/L2  = 55 is 2.9125\n",
            "Para Δβ  y L3/L2  = 55 is 3.86875\n",
            "Para Δβ  y ΔX  = 55 is 1.6204999999999998\n",
            "L2= 12.341869793273682\n",
            "L3= 86.2597547380156\n",
            "L1= 64.9386845039019\n"
          ]
        }
      ]
    },
    {
      "cell_type": "code",
      "source": [],
      "metadata": {
        "id": "iPp2IlyMWNaP"
      },
      "execution_count": null,
      "outputs": []
    }
  ]
}