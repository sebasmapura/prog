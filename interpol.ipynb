{
  "nbformat": 4,
  "nbformat_minor": 0,
  "metadata": {
    "colab": {
      "provenance": [],
      "authorship_tag": "ABX9TyMfpT2nvlLteYIKcVku2qcp",
      "include_colab_link": true
    },
    "kernelspec": {
      "name": "python3",
      "display_name": "Python 3"
    },
    "language_info": {
      "name": "python"
    }
  },
  "cells": [
    {
      "cell_type": "markdown",
      "metadata": {
        "id": "view-in-github",
        "colab_type": "text"
      },
      "source": [
        "<a href=\"https://colab.research.google.com/github/sebasmapura/prog/blob/main/interpol.ipynb\" target=\"_parent\"><img src=\"https://colab.research.google.com/assets/colab-badge.svg\" alt=\"Open In Colab\"/></a>"
      ]
    },
    {
      "cell_type": "markdown",
      "source": [
        "Tarea 1 : Interpolacion\n",
        "EL siguiente codigo es solo para el movimiento de rectitud, luego e usa el mismo codigo para velocidad\n",
        "Para esto tomo los datos de X y inicio colocando los datos que solicitan 30 y 50 em las siguiente variables;\n",
        "interpolate_x = 30\n",
        "interpolate_x1 = 55\n",
        "\n",
        "La columna X en todas las interpolaciones es la primer colomna y las casilla Y1..Y6 son las columnas a interpolar,\n",
        "\n",
        "Para poder encontrar las varianbles de cada columna\n",
        "\n",
        "Luego de encontrar cada interpolación despejo cada varibale con respecto a la tabla para encontrar la distanacia no encontrada"
      ],
      "metadata": {
        "id": "V-Rzy_-CaDya"
      }
    },
    {
      "cell_type": "markdown",
      "source": [
        "# Rectitud"
      ],
      "metadata": {
        "id": "mqRwUK_ycOGT"
      }
    },
    {
      "cell_type": "code",
      "execution_count": 18,
      "metadata": {
        "colab": {
          "base_uri": "https://localhost:8080/"
        },
        "id": "lglPHevm0MO5",
        "outputId": "9c0be07d-dbae-4512-c5da-b02a872095f5"
      },
      "outputs": [
        {
          "output_type": "stream",
          "name": "stdout",
          "text": [
            "Para Δβ y θstart = 30 is 165.0\n",
            "Para Δβ y θstart = 55 is 152.5\n"
          ]
        }
      ],
      "source": [
        "# Dato 1\n",
        "from scipy.interpolate import interp1d\n",
        "\n",
        "X = [20,40,60,80,100,120,140,160,180] #variable 1\n",
        "Y= [170, 160, 150,140,130, 120, 110, 100, 90  ]\n",
        " # random y values\n",
        "\n",
        "interpolate_x = 30\n",
        "interpolate_x1 = 55\n",
        "\n",
        "\n",
        "y_interp = interp1d(X, Y)\n",
        "print(\"Para Δβ y θstart = {} is\".format(interpolate_x),\n",
        "      y_interp(interpolate_x))\n",
        "\n",
        "y_interp1 = interp1d(X, Y)\n",
        "print(\"Para Δβ y θstart = {} is\".format(interpolate_x1),\n",
        "      y_interp1(interpolate_x1))\n"
      ]
    },
    {
      "cell_type": "markdown",
      "source": [],
      "metadata": {
        "id": "683kehqaaCCG"
      }
    },
    {
      "cell_type": "code",
      "source": [
        "# Dato 2\n",
        "from scipy.interpolate import interp1d\n",
        "\n",
        "X = [20,40,60,80,100,120,140,160,180] #variable 1\n",
        "Y1= [0.00001, 0.00004, 0.00027, 0.001, 0.004, 0.010, 0.023, 0.047,0.096]\n",
        " # random y values\n",
        "\n",
        "interpolate_x = 30\n",
        "interpolate_x1 = 55\n",
        "\n",
        "\n",
        "MinimumCy = interp1d(X, Y1)\n",
        "print(\"Para Δβ y Minimum Cy = {} is\".format(interpolate_x),\n",
        "      MinimumCy (interpolate_x))\n",
        "\n",
        "MinimumCy1 = interp1d(X, Y1)\n",
        "print(\"Para Δβ  y Minimum Cy = {} is\".format(interpolate_x1),\n",
        "      MinimumCy1 (interpolate_x1))"
      ],
      "metadata": {
        "colab": {
          "base_uri": "https://localhost:8080/"
        },
        "id": "yZv2Tq4lM1hQ",
        "outputId": "10efbd94-547c-4646-f021-10bf7df918be"
      },
      "execution_count": 22,
      "outputs": [
        {
          "output_type": "stream",
          "name": "stdout",
          "text": [
            "Para Δβ y Minimum Cy = 30 is 2.5000000000000005e-05\n",
            "Para Δβ  y Minimum Cy = 55 is 0.0002125\n"
          ]
        }
      ]
    },
    {
      "cell_type": "code",
      "source": [
        "# Dato 3\n",
        "from scipy.interpolate import interp1d\n",
        "\n",
        "X = [20,40,60,80,100,120,140,160,180] #variable 1\n",
        "Y2= [0.38,1.53,3.48,6.26,9.90,14.68,20.48,27.15,35.31]\n",
        " # random y values\n",
        "\n",
        "interpolate_x = 30\n",
        "interpolate_x1 = 55\n",
        "\n",
        "\n",
        "Δv = interp1d(X, Y2)\n",
        "print(\"Para Δβ y Δv = {} is\".format(interpolate_x),\n",
        "      Δv (interpolate_x))\n",
        "\n",
        "Δv1 = interp1d(X, Y2)\n",
        "print(\"Para Δβ  y Δv = {} is\".format(interpolate_x1),\n",
        "      Δv (interpolate_x1))"
      ],
      "metadata": {
        "colab": {
          "base_uri": "https://localhost:8080/"
        },
        "id": "45CxtQEKL282",
        "outputId": "081c5db1-c31b-4ce3-e29f-94657e1475a2"
      },
      "execution_count": 26,
      "outputs": [
        {
          "output_type": "stream",
          "name": "stdout",
          "text": [
            "Para Δβ y Δv = 30 is 0.955\n",
            "Para Δβ  y Δv = 55 is 2.9925\n"
          ]
        }
      ]
    },
    {
      "cell_type": "code",
      "source": [
        "# Dato 4\n",
        "from scipy.interpolate import interp1d\n",
        "\n",
        "X = [20,40,60,80,100,120,140,160,180] #variable 1\n",
        "Y3= [1.436,1.504,1.565, 1.611, 1.646, 1.679, 1.702, 1.717, 1.725]\n",
        " # random y values\n",
        "\n",
        "interpolate_x = 30\n",
        "interpolate_x1 = 55\n",
        "\n",
        "\n",
        "Vx = interp1d(X, Y3)\n",
        "print(\"Para Δβ y Vx  = {} is\".format(interpolate_x),\n",
        "      Vx  (interpolate_x))\n",
        "\n",
        "Vx1 = interp1d(X, Y3)\n",
        "print(\"Para Δβ  y Vx  = {} is\".format(interpolate_x1),\n",
        "      Vx1 (interpolate_x1))"
      ],
      "metadata": {
        "colab": {
          "base_uri": "https://localhost:8080/"
        },
        "id": "Cy0phKzlP7H9",
        "outputId": "5e932e62-e6ac-4f3c-d351-7bc677c33793"
      },
      "execution_count": 28,
      "outputs": [
        {
          "output_type": "stream",
          "name": "stdout",
          "text": [
            "Para Δβ y Vx  = 30 is 1.47\n",
            "Para Δβ  y Vx  = 55 is 1.54975\n"
          ]
        }
      ]
    },
    {
      "cell_type": "code",
      "source": [
        "# Dato 5\n",
        "from scipy.interpolate import interp1d\n",
        "\n",
        "X = [20,40,60,80,100,120,140,160,180] #variable 1\n",
        "Y4=[2.975, 2.950, 2.900, 2.825, 2.725,2.625,2.500,2.350,2.200]\n",
        " # random y values\n",
        "\n",
        "interpolate_x = 30\n",
        "interpolate_x1 = 55\n",
        "\n",
        "\n",
        "L1L2 = interp1d(X, Y4)\n",
        "print(\"Para Δβ y L1/L2  = {} is\".format(interpolate_x),\n",
        "      L1L2(interpolate_x))\n",
        "\n",
        "L1L21 = interp1d(X, Y4)\n",
        "print(\"Para Δβ  y L1/L2  = {} is\".format(interpolate_x1),\n",
        "     L1L21 (interpolate_x1))"
      ],
      "metadata": {
        "colab": {
          "base_uri": "https://localhost:8080/"
        },
        "id": "G_HRxLQyQdqT",
        "outputId": "c70d94cb-aec6-43cb-c777-10c5b4f318b5"
      },
      "execution_count": 32,
      "outputs": [
        {
          "output_type": "stream",
          "name": "stdout",
          "text": [
            "Para Δβ y L1/L2  = 30 is 2.9625000000000004\n",
            "Para Δβ  y L1/L2  = 55 is 2.9125\n"
          ]
        }
      ]
    },
    {
      "cell_type": "code",
      "source": [
        "# Dato 6\n",
        "from scipy.interpolate import interp1d\n",
        "\n",
        "X = [20,40,60,80,100,120,140,160,180] #variable 1\n",
        "Y5 = [3.963,3.925,3.850,3.738,3.588,3.438,3.250,2.025,2.800]\n",
        " # random y values\n",
        "\n",
        "interpolate_x = 30\n",
        "interpolate_x1 = 55\n",
        "\n",
        "\n",
        "L3L2 = interp1d(X, Y5)\n",
        "print(\"Para Δβ y L3/L2  = {} is\".format(interpolate_x),\n",
        "      L3L2(interpolate_x))\n",
        "\n",
        "L3L21 = interp1d(X, Y5)\n",
        "print(\"Para Δβ  y L3/L2  = {} is\".format(interpolate_x1),\n",
        "     L3L21 (interpolate_x1))"
      ],
      "metadata": {
        "colab": {
          "base_uri": "https://localhost:8080/"
        },
        "id": "Xcc717VeRBpO",
        "outputId": "263ea513-0faa-466c-a0e7-804a3dc44819"
      },
      "execution_count": 37,
      "outputs": [
        {
          "output_type": "stream",
          "name": "stdout",
          "text": [
            "Para Δβ y L3/L2  = 30 is 3.944\n",
            "Para Δβ  y L3/L2  = 55 is 3.86875\n"
          ]
        }
      ]
    },
    {
      "cell_type": "code",
      "source": [
        "# Dato 7\n",
        "from scipy.interpolate import interp1d\n",
        "\n",
        "X = [20,40,60,80,100,120,140,160,180] #variable 1\n",
        "Y6 = [0.601,1.193,1.763,2.299,2.790,3.238,3.623,3.933,4.181]\n",
        " # random y values\n",
        "\n",
        "interpolate_x = 30\n",
        "interpolate_x1 = 55\n",
        "\n",
        "\n",
        "ΔX = interp1d(X, Y6)\n",
        "print(\"Para Δβ y ΔX = {} is\".format(interpolate_x),\n",
        "      ΔX(interpolate_x))\n",
        "\n",
        "ΔX1 = interp1d(X, Y6)\n",
        "print(\"Para Δβ  y ΔX  = {} is\".format(interpolate_x1),\n",
        "     ΔX1 (interpolate_x1))"
      ],
      "metadata": {
        "colab": {
          "base_uri": "https://localhost:8080/"
        },
        "id": "wYXc9GFTRb2a",
        "outputId": "271d1a64-2659-47ca-a090-3686e16e8520"
      },
      "execution_count": 36,
      "outputs": [
        {
          "output_type": "stream",
          "name": "stdout",
          "text": [
            "Para Δβ y ΔX = 30 is 0.897\n",
            "Para Δβ  y ΔX  = 55 is 1.6204999999999998\n"
          ]
        }
      ]
    },
    {
      "cell_type": "code",
      "source": [
        "y_interp = interp1d(X, Y)\n",
        "print(\"Para Δβ y θstart = {} is\".format(interpolate_x),\n",
        "      y_interp(interpolate_x))\n",
        "\n",
        "\n",
        "\n",
        "\n",
        "MinimumCy = interp1d(X, Y1)\n",
        "print(\"Para Δβ y Minimum Cy = {} is\".format(interpolate_x),\n",
        "      MinimumCy (interpolate_x))\n",
        "\n",
        "\n",
        "\n",
        "\n",
        "\n",
        "Δv = interp1d(X, Y2)\n",
        "print(\"Para Δβ y Δv = {} is\".format(interpolate_x),\n",
        "      Δv (interpolate_x))\n",
        "\n",
        "\n",
        "\n",
        "\n",
        "Vx = interp1d(X, Y3)\n",
        "print(\"Para Δβ y Vx  = {} is\".format(interpolate_x),\n",
        "      Vx  (interpolate_x))\n",
        "\n",
        "\n",
        "\n",
        "L1L2 = interp1d(X, Y4)\n",
        "print(\"Para Δβ y L1/L2  = {} is\".format(interpolate_x),\n",
        "      L1L2(interpolate_x))\n",
        "\n",
        "\n",
        "\n",
        "\n",
        "L3L2 = interp1d(X, Y5)\n",
        "print(\"Para Δβ y L3/L2  = {} is\".format(interpolate_x),\n",
        "      L3L2(interpolate_x))\n",
        "\n",
        "\n",
        "\n",
        "\n",
        "\n",
        "ΔX = interp1d(X, Y6)\n",
        "print(\"Para Δβ y ΔX = {} is\".format(interpolate_x),\n",
        "      ΔX(interpolate_x))\n",
        "\n",
        "Δ=20\n",
        "\n",
        "#Calculo L2\n",
        "\n",
        "L2=(Δ/ΔX(interpolate_x))\n",
        "print(\"L2=\",L2)\n",
        "\n",
        "#calculo L3\n",
        "\n",
        "L3= (L2*L3L2(interpolate_x))\n",
        "print(\"L3=\",L3)\n",
        "\n",
        "#Calculo L1\n",
        "L1= (L2*L1L2(interpolate_x))\n",
        "print(\"L1=\",L1)"
      ],
      "metadata": {
        "colab": {
          "base_uri": "https://localhost:8080/"
        },
        "id": "bHjZvj0TL1Uh",
        "outputId": "af69ed1d-c3f9-47b3-9126-2a8eb0bd8a4c"
      },
      "execution_count": 49,
      "outputs": [
        {
          "output_type": "stream",
          "name": "stdout",
          "text": [
            "Para Δβ y θstart = 30 is 165.0\n",
            "Para Δβ y Minimum Cy = 30 is 2.5000000000000005e-05\n",
            "Para Δβ y Δv = 30 is 0.955\n",
            "Para Δβ y Vx  = 30 is 1.47\n",
            "Para Δβ y L1/L2  = 30 is 2.9625000000000004\n",
            "Para Δβ y L3/L2  = 30 is 3.944\n",
            "Para Δβ y ΔX = 30 is 0.897\n",
            "L2= 22.29654403567447\n",
            "L3= 87.93756967670011\n",
            "L1= 66.05351170568562\n"
          ]
        }
      ]
    },
    {
      "cell_type": "code",
      "source": [],
      "metadata": {
        "colab": {
          "base_uri": "https://localhost:8080/"
        },
        "id": "ClD9H1yOWQsL",
        "outputId": "2fddd24c-3871-4e1a-a375-2f492a88832c"
      },
      "execution_count": 44,
      "outputs": [
        {
          "output_type": "stream",
          "name": "stdout",
          "text": [
            "22.29654403567447\n"
          ]
        }
      ]
    },
    {
      "cell_type": "code",
      "source": [
        "y_interp1 = interp1d(X, Y)\n",
        "print(\"Para Δβ y θstart = {} is\".format(interpolate_x1),\n",
        "      y_interp1(interpolate_x1))\n",
        "\n",
        "MinimumCy1 = interp1d(X, Y1)\n",
        "print(\"Para Δβ  y Minimum Cy = {} is\".format(interpolate_x1),\n",
        "      MinimumCy1 (interpolate_x1))\n",
        "\n",
        "\n",
        "Δv1 = interp1d(X, Y2)\n",
        "print(\"Para Δβ  y Δv = {} is\".format(interpolate_x1),\n",
        "      Δv (interpolate_x1))\n",
        "\n",
        "\n",
        "Vx1 = interp1d(X, Y3)\n",
        "print(\"Para Δβ  y Vx  = {} is\".format(interpolate_x1),\n",
        "      Vx1 (interpolate_x1))\n",
        "\n",
        "\n",
        "L1L21 = interp1d(X, Y4)\n",
        "print(\"Para Δβ  y L1/L2  = {} is\".format(interpolate_x1),\n",
        "     L1L21 (interpolate_x1))\n",
        "\n",
        "\n",
        "L3L21 = interp1d(X, Y5)\n",
        "print(\"Para Δβ  y L3/L2  = {} is\".format(interpolate_x1),\n",
        "     L3L21 (interpolate_x1))\n",
        "\n",
        "\n",
        "ΔX1 = interp1d(X, Y6)\n",
        "print(\"Para Δβ  y ΔX  = {} is\".format(interpolate_x1),\n",
        "     ΔX1 (interpolate_x1))\n",
        "\n",
        "Δ=20\n",
        "\n",
        "#Calculo L2\n",
        "\n",
        "L21=(Δ/ΔX1(interpolate_x1))\n",
        "print(\"L2=\",L21)\n",
        "\n",
        "#calculo L3\n",
        "\n",
        "L31= (L2*L3L21(interpolate_x1))\n",
        "print(\"L3=\",L31)\n",
        "\n",
        "#Calculo L1\n",
        "L11= (L2*L1L21(interpolate_x1))\n",
        "print(\"L1=\",L11)"
      ],
      "metadata": {
        "colab": {
          "base_uri": "https://localhost:8080/"
        },
        "id": "sb0nBqOaSJxZ",
        "outputId": "8568f2af-f71e-4277-f738-4120d41891ec"
      },
      "execution_count": 50,
      "outputs": [
        {
          "output_type": "stream",
          "name": "stdout",
          "text": [
            "Para Δβ y θstart = 55 is 152.5\n",
            "Para Δβ  y Minimum Cy = 55 is 0.0002125\n",
            "Para Δβ  y Δv = 55 is 2.9925\n",
            "Para Δβ  y Vx  = 55 is 1.54975\n",
            "Para Δβ  y L1/L2  = 55 is 2.9125\n",
            "Para Δβ  y L3/L2  = 55 is 3.86875\n",
            "Para Δβ  y ΔX  = 55 is 1.6204999999999998\n",
            "L2= 12.341869793273682\n",
            "L3= 86.2597547380156\n",
            "L1= 64.9386845039019\n"
          ]
        }
      ]
    },
    {
      "cell_type": "markdown",
      "source": [
        "# Continuidad de codigo para velocidad"
      ],
      "metadata": {
        "id": "AgAh3613bVxV"
      }
    },
    {
      "cell_type": "code",
      "source": [],
      "metadata": {
        "id": "5UeKHw9xbpiT"
      },
      "execution_count": 51,
      "outputs": []
    },
    {
      "cell_type": "code",
      "execution_count": 52,
      "metadata": {
        "colab": {
          "base_uri": "https://localhost:8080/"
        },
        "outputId": "98c98d47-07c6-4141-b6ad-046a73e75c25",
        "id": "6XLciQdLb_AH"
      },
      "outputs": [
        {
          "output_type": "stream",
          "name": "stdout",
          "text": [
            "Para Δβ y θstart = 30 is 165.0\n",
            "Para Δβ y θstart = 55 is 152.5\n"
          ]
        }
      ],
      "source": [
        "#Inicio codigo velocidad\n",
        "# Dato 1\n",
        "from scipy.interpolate import interp1d\n",
        "\n",
        "X = [20,40,60,80,100,120,140,160,180] #variable 1\n",
        "Y= [170, 160, 150,140,130, 120, 110, 100, 90  ]\n",
        " # random y values\n",
        "\n",
        "interpolate_x = 30\n",
        "interpolate_x1 = 55\n",
        "\n",
        "\n",
        "y_interp = interp1d(X, Y)\n",
        "print(\"Para Δβ y θstart = {} is\".format(interpolate_x),\n",
        "      y_interp(interpolate_x))\n",
        "\n",
        "y_interp1 = interp1d(X, Y)\n",
        "print(\"Para Δβ y θstart = {} is\".format(interpolate_x1),\n",
        "      y_interp1(interpolate_x1))\n"
      ]
    },
    {
      "cell_type": "code",
      "source": [
        "# Dato 2\n",
        "from scipy.interpolate import interp1d\n",
        "\n",
        "X = [20,40,60,80,100,120,140,160,180] #variable 1\n",
        "Y1= [0.006, 0.038, 0.106, 0.340, 0.910, 1.885, 3.327, 5.878,9.299]\n",
        " # random y values\n",
        "\n",
        "interpolate_x = 30\n",
        "interpolate_x1 = 55\n",
        "\n",
        "\n",
        "MinimumCy = interp1d(X, Y1)\n",
        "print(\"Para Δβ y Minimum Cy = {} is\".format(interpolate_x),\n",
        "      MinimumCy (interpolate_x))\n",
        "\n",
        "MinimumCy1 = interp1d(X, Y1)\n",
        "print(\"Para Δβ  y Minimum Cy = {} is\".format(interpolate_x1),\n",
        "      MinimumCy1 (interpolate_x1))"
      ],
      "metadata": {
        "colab": {
          "base_uri": "https://localhost:8080/"
        },
        "outputId": "4e40f37f-c2d4-475d-df42-f682d732d5e2",
        "id": "bQ0Jtqkfb_Ad"
      },
      "execution_count": 56,
      "outputs": [
        {
          "output_type": "stream",
          "name": "stdout",
          "text": [
            "Para Δβ y Minimum Cy = 30 is 0.022\n",
            "Para Δβ  y Minimum Cy = 55 is 0.089\n"
          ]
        }
      ]
    },
    {
      "cell_type": "code",
      "source": [
        "# Dato 3\n",
        "from scipy.interpolate import interp1d\n",
        "\n",
        "X = [20,40,60,80,100,120,140,160,180] #variable 1\n",
        "Y2= [0.137,0.274,0.387,0.503,0.640,0.752,0.888,1.067,1.446]\n",
        " # random y values\n",
        "\n",
        "interpolate_x = 30\n",
        "interpolate_x1 = 55\n",
        "\n",
        "\n",
        "Δv = interp1d(X, Y2)\n",
        "print(\"Para Δβ y Δv = {} is\".format(interpolate_x),\n",
        "      Δv (interpolate_x))\n",
        "\n",
        "Δv1 = interp1d(X, Y2)\n",
        "print(\"Para Δβ  y Δv = {} is\".format(interpolate_x1),\n",
        "      Δv (interpolate_x1))"
      ],
      "metadata": {
        "colab": {
          "base_uri": "https://localhost:8080/"
        },
        "outputId": "85329944-60f4-43ac-f033-c94b8e4011ce",
        "id": "EHS5vi-8b_Ad"
      },
      "execution_count": 57,
      "outputs": [
        {
          "output_type": "stream",
          "name": "stdout",
          "text": [
            "Para Δβ y Δv = 30 is 0.20550000000000002\n",
            "Para Δβ  y Δv = 55 is 0.35875\n"
          ]
        }
      ]
    },
    {
      "cell_type": "code",
      "source": [
        "# Dato 4\n",
        "from scipy.interpolate import interp1d\n",
        "\n",
        "X = [20,40,60,80,100,120,140,160,180] #variable 1\n",
        "Y3= [1.045,1.124,1.178, 1.229, 1.275, 1.319, 1.347, 1.361, 1.374]\n",
        " # random y values\n",
        "\n",
        "interpolate_x = 30\n",
        "interpolate_x1 = 55\n",
        "\n",
        "\n",
        "Vx = interp1d(X, Y3)\n",
        "print(\"Para Δβ y Vx  = {} is\".format(interpolate_x),\n",
        "      Vx  (interpolate_x))\n",
        "\n",
        "Vx1 = interp1d(X, Y3)\n",
        "print(\"Para Δβ  y Vx  = {} is\".format(interpolate_x1),\n",
        "      Vx1 (interpolate_x1))"
      ],
      "metadata": {
        "colab": {
          "base_uri": "https://localhost:8080/"
        },
        "outputId": "895bb836-4f0a-4edd-9299-4841b461c4ac",
        "id": "gG3-PYPIb_Ad"
      },
      "execution_count": 58,
      "outputs": [
        {
          "output_type": "stream",
          "name": "stdout",
          "text": [
            "Para Δβ y Vx  = 30 is 1.0845\n",
            "Para Δβ  y Vx  = 55 is 1.1644999999999999\n"
          ]
        }
      ]
    },
    {
      "cell_type": "code",
      "source": [
        "# Dato 5\n",
        "from scipy.interpolate import interp1d\n",
        "\n",
        "X = [20,40,60,80,100,120,140,160,180] #variable 1\n",
        "Y4=[2.075, 2.050, 2.025, 1.975, 1.900,1.825,1.750,1.675,1.575]\n",
        " # random y values\n",
        "\n",
        "interpolate_x = 30\n",
        "interpolate_x1 = 55\n",
        "\n",
        "\n",
        "L1L2 = interp1d(X, Y4)\n",
        "print(\"Para Δβ y L1/L2  = {} is\".format(interpolate_x),\n",
        "      L1L2(interpolate_x))\n",
        "\n",
        "L1L21 = interp1d(X, Y4)\n",
        "print(\"Para Δβ  y L1/L2  = {} is\".format(interpolate_x1),\n",
        "     L1L21 (interpolate_x1))"
      ],
      "metadata": {
        "colab": {
          "base_uri": "https://localhost:8080/"
        },
        "outputId": "e2243739-dc13-41ca-b8b5-1e993ddaa916",
        "id": "Erj3FkS5b_Ae"
      },
      "execution_count": 59,
      "outputs": [
        {
          "output_type": "stream",
          "name": "stdout",
          "text": [
            "Para Δβ y L1/L2  = 30 is 2.0625\n",
            "Para Δβ  y L1/L2  = 55 is 2.03125\n"
          ]
        }
      ]
    },
    {
      "cell_type": "code",
      "source": [
        "# Dato 6\n",
        "from scipy.interpolate import interp1d\n",
        "\n",
        "X = [20,40,60,80,100,120,140,160,180] #variable 1\n",
        "Y5 = [2.613,2.575,2.538,2.463,2.350,2.238,2.125,2.013,1.863]\n",
        " # random y values\n",
        "\n",
        "interpolate_x = 30\n",
        "interpolate_x1 = 55\n",
        "\n",
        "\n",
        "L3L2 = interp1d(X, Y5)\n",
        "print(\"Para Δβ y L3/L2  = {} is\".format(interpolate_x),\n",
        "      L3L2(interpolate_x))\n",
        "\n",
        "L3L21 = interp1d(X, Y5)\n",
        "print(\"Para Δβ  y L3/L2  = {} is\".format(interpolate_x1),\n",
        "     L3L21 (interpolate_x1))"
      ],
      "metadata": {
        "colab": {
          "base_uri": "https://localhost:8080/"
        },
        "outputId": "abe2209e-e378-40f8-ecd0-03a7e6511962",
        "id": "qvbIowb3b_Ae"
      },
      "execution_count": 60,
      "outputs": [
        {
          "output_type": "stream",
          "name": "stdout",
          "text": [
            "Para Δβ y L3/L2  = 30 is 2.5940000000000003\n",
            "Para Δβ  y L3/L2  = 55 is 2.54725\n"
          ]
        }
      ]
    },
    {
      "cell_type": "code",
      "source": [
        "# Dato 7\n",
        "from scipy.interpolate import interp1d\n",
        "\n",
        "X = [20,40,60,80,100,120,140,160,180] #variable 1\n",
        "Y6 = [0.480,0.950,1.411,1.845,2.237,2.600,2.932,3.232,3.456]\n",
        " # random y values\n",
        "\n",
        "interpolate_x = 30\n",
        "interpolate_x1 = 55\n",
        "\n",
        "\n",
        "ΔX = interp1d(X, Y6)\n",
        "print(\"Para Δβ y ΔX = {} is\".format(interpolate_x),\n",
        "      ΔX(interpolate_x))\n",
        "\n",
        "ΔX1 = interp1d(X, Y6)\n",
        "print(\"Para Δβ  y ΔX  = {} is\".format(interpolate_x1),\n",
        "     ΔX1 (interpolate_x1))"
      ],
      "metadata": {
        "colab": {
          "base_uri": "https://localhost:8080/"
        },
        "outputId": "a0bd0268-de58-4263-b1c8-2b6018bcd8da",
        "id": "c9DwMkAyb_Ae"
      },
      "execution_count": 61,
      "outputs": [
        {
          "output_type": "stream",
          "name": "stdout",
          "text": [
            "Para Δβ y ΔX = 30 is 0.715\n",
            "Para Δβ  y ΔX  = 55 is 1.29575\n"
          ]
        }
      ]
    },
    {
      "cell_type": "code",
      "source": [
        "y_interp = interp1d(X, Y)\n",
        "print(\"Para Δβ y θstart = {} is\".format(interpolate_x),\n",
        "      y_interp(interpolate_x))\n",
        "\n",
        "\n",
        "\n",
        "\n",
        "MinimumCy = interp1d(X, Y1)\n",
        "print(\"Para Δβ y Minimum Cy = {} is\".format(interpolate_x),\n",
        "      MinimumCy (interpolate_x))\n",
        "\n",
        "\n",
        "\n",
        "\n",
        "\n",
        "Δv = interp1d(X, Y2)\n",
        "print(\"Para Δβ y Δv = {} is\".format(interpolate_x),\n",
        "      Δv (interpolate_x))\n",
        "\n",
        "\n",
        "\n",
        "\n",
        "Vx = interp1d(X, Y3)\n",
        "print(\"Para Δβ y Vx  = {} is\".format(interpolate_x),\n",
        "      Vx  (interpolate_x))\n",
        "\n",
        "\n",
        "\n",
        "L1L2 = interp1d(X, Y4)\n",
        "print(\"Para Δβ y L1/L2  = {} is\".format(interpolate_x),\n",
        "      L1L2(interpolate_x))\n",
        "\n",
        "\n",
        "\n",
        "\n",
        "L3L2 = interp1d(X, Y5)\n",
        "print(\"Para Δβ y L3/L2  = {} is\".format(interpolate_x),\n",
        "      L3L2(interpolate_x))\n",
        "\n",
        "\n",
        "\n",
        "\n",
        "\n",
        "ΔX = interp1d(X, Y6)\n",
        "print(\"Para Δβ y ΔX = {} is\".format(interpolate_x),\n",
        "      ΔX(interpolate_x))\n",
        "\n",
        "Δ=20\n",
        "\n",
        "#Calculo L2\n",
        "\n",
        "L2=(Δ/ΔX(interpolate_x))\n",
        "print(\"L2=\",L2)\n",
        "\n",
        "#calculo L3\n",
        "\n",
        "L3= (L2*L3L2(interpolate_x))\n",
        "print(\"L3=\",L3)\n",
        "\n",
        "#Calculo L1\n",
        "L1= (L2*L1L2(interpolate_x))\n",
        "print(\"L1=\",L1)"
      ],
      "metadata": {
        "colab": {
          "base_uri": "https://localhost:8080/"
        },
        "outputId": "8a003dcf-1944-4b8d-ccc4-6145e6e71a89",
        "id": "bNbHafvbb_Af"
      },
      "execution_count": 62,
      "outputs": [
        {
          "output_type": "stream",
          "name": "stdout",
          "text": [
            "Para Δβ y θstart = 30 is 165.0\n",
            "Para Δβ y Minimum Cy = 30 is 0.022\n",
            "Para Δβ y Δv = 30 is 0.20550000000000002\n",
            "Para Δβ y Vx  = 30 is 1.0845\n",
            "Para Δβ y L1/L2  = 30 is 2.0625\n",
            "Para Δβ y L3/L2  = 30 is 2.5940000000000003\n",
            "Para Δβ y ΔX = 30 is 0.715\n",
            "L2= 27.972027972027973\n",
            "L3= 72.55944055944057\n",
            "L1= 57.69230769230769\n"
          ]
        }
      ]
    },
    {
      "cell_type": "code",
      "source": [
        "y_interp1 = interp1d(X, Y)\n",
        "print(\"Para Δβ y θstart = {} is\".format(interpolate_x1),\n",
        "      y_interp1(interpolate_x1))\n",
        "\n",
        "MinimumCy1 = interp1d(X, Y1)\n",
        "print(\"Para Δβ  y Minimum Cy = {} is\".format(interpolate_x1),\n",
        "      MinimumCy1 (interpolate_x1))\n",
        "\n",
        "\n",
        "Δv1 = interp1d(X, Y2)\n",
        "print(\"Para Δβ  y Δv = {} is\".format(interpolate_x1),\n",
        "      Δv (interpolate_x1))\n",
        "\n",
        "\n",
        "Vx1 = interp1d(X, Y3)\n",
        "print(\"Para Δβ  y Vx  = {} is\".format(interpolate_x1),\n",
        "      Vx1 (interpolate_x1))\n",
        "\n",
        "\n",
        "L1L21 = interp1d(X, Y4)\n",
        "print(\"Para Δβ  y L1/L2  = {} is\".format(interpolate_x1),\n",
        "     L1L21 (interpolate_x1))\n",
        "\n",
        "\n",
        "L3L21 = interp1d(X, Y5)\n",
        "print(\"Para Δβ  y L3/L2  = {} is\".format(interpolate_x1),\n",
        "     L3L21 (interpolate_x1))\n",
        "\n",
        "\n",
        "ΔX1 = interp1d(X, Y6)\n",
        "print(\"Para Δβ  y ΔX  = {} is\".format(interpolate_x1),\n",
        "     ΔX1 (interpolate_x1))\n",
        "\n",
        "Δ=20\n",
        "\n",
        "#Calculo L2\n",
        "\n",
        "L21=(Δ/ΔX1(interpolate_x1))\n",
        "print(\"L2=\",L21)\n",
        "\n",
        "#calculo L3\n",
        "\n",
        "L31= (L2*L3L21(interpolate_x1))\n",
        "print(\"L3=\",L31)\n",
        "\n",
        "#Calculo L1\n",
        "L11= (L2*L1L21(interpolate_x1))\n",
        "print(\"L1=\",L11)"
      ],
      "metadata": {
        "colab": {
          "base_uri": "https://localhost:8080/"
        },
        "outputId": "02cc494b-18e3-47e9-83f2-6a7de628cf7d",
        "id": "Hem-kssyb_Af"
      },
      "execution_count": 63,
      "outputs": [
        {
          "output_type": "stream",
          "name": "stdout",
          "text": [
            "Para Δβ y θstart = 55 is 152.5\n",
            "Para Δβ  y Minimum Cy = 55 is 0.089\n",
            "Para Δβ  y Δv = 55 is 0.35875\n",
            "Para Δβ  y Vx  = 55 is 1.1644999999999999\n",
            "Para Δβ  y L1/L2  = 55 is 2.03125\n",
            "Para Δβ  y L3/L2  = 55 is 2.54725\n",
            "Para Δβ  y ΔX  = 55 is 1.29575\n",
            "L2= 15.435076210688791\n",
            "L3= 71.25174825174825\n",
            "L1= 56.81818181818182\n"
          ]
        }
      ]
    }
  ]
}